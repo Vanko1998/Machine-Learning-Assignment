{
 "cells": [
  {
   "cell_type": "code",
   "execution_count": 86,
   "id": "41344b4b",
   "metadata": {},
   "outputs": [],
   "source": [
    "import cv2 as cv\n",
    "import os\n",
    "import numpy as np\n",
    "import pandas as pd\n",
    "import matplotlib.pyplot as plt\n",
    "from sklearn.metrics import classification_report,accuracy_score\n",
    "from sklearn import svm\n",
    "from sklearn.neighbors import KNeighborsClassifier\n",
    "from sklearn import metrics\n",
    "from sklearn.model_selection import learning_curve\n",
    "from sklearn.svm import SVC\n",
    "\n",
    "global basedir,labels_file\n",
    "\n",
    "testdir='.\\\\test'#direction for test dataset\n",
    "basedir='.\\\\dataset'#direction for training dataset\n",
    "labels_file='label.csv'#direction for labels"
   ]
  },
  {
   "cell_type": "code",
   "execution_count": 87,
   "id": "27d5d687",
   "metadata": {},
   "outputs": [],
   "source": [
    "def data_preprocess(datadir):#to reduce size of pictures and extract labels\n",
    "    images_dir = os.path.join(datadir,'image')#compelte image direction\n",
    "    image_paths=[os.path.join(images_dir,num)for num in os.listdir(images_dir)]#locate positon of datset\n",
    "\n",
    "    if os.path.isdir(images_dir):\n",
    "            all_img=[]\n",
    "            labels_file_position = pd.read_csv(os.path.join(datadir,labels_file))#extract labels details\n",
    "            all_labels=labels_file_position['label'].tolist()#switch dataframe to list form\n",
    "            for image_path in image_paths:\n",
    "                img=cv.imread(image_path,0)\n",
    "                img_down=cv.pyrDown(img)#reduce image size to 256*256\n",
    "                img_down_down=cv.pyrDown(img_down)#reduce image size to 128*128\n",
    "                all_img.append(img_down_down)#gain all images\n",
    "    return all_img,all_labels#return details of images and labels\n"
   ]
  },
  {
   "cell_type": "markdown",
   "id": "6bc63676",
   "metadata": {},
   "source": [
    "## Train Binary&Multiclass Model Using SVM"
   ]
  },
  {
   "cell_type": "code",
   "execution_count": 88,
   "id": "bbe403e3",
   "metadata": {},
   "outputs": [],
   "source": [
    "def binary_split(datadir):#for task 1\n",
    "    x,y=data_preprocess(datadir)\n",
    "    processed_labels=[]\n",
    "    \n",
    "    for index in range (np.array(y).size):\n",
    "        if y[index]=='no_tumor':\n",
    "            processed_labels.append(0)#0 stands for no_tumor labels\n",
    "        else:\n",
    "            processed_labels.append(1)#1 stands for other labels\n",
    "    return np.array(x),np.array(processed_labels)#return 1.array of image details    2.array of 0 and 1.\n",
    "\n",
    "def multiple_split(datadir):#for task 2\n",
    "    x,y=data_preprocess(datadir)\n",
    "    processed_labels=[]\n",
    "    \n",
    "    for index in range (np.array(y).size):\n",
    "        if y[index]=='no_tumor':\n",
    "            processed_labels.append(0)#0 stands for no_tumor labels\n",
    "        elif y[index]=='meningioma_tumor':\n",
    "            processed_labels.append(1)#1 stands for meningioma_tumor labels\n",
    "        elif y[index]=='glioma_tumor':\n",
    "            processed_labels.append(2)#2 stands for glioma_tumor labels\n",
    "        elif y[index]=='pituitary_tumor':\n",
    "            processed_labels.append(3)#3 stands for pituitary_tumor labels\n",
    "    return np.array(x),np.array(processed_labels)#return 1.array of image details    2.array of 0,1,2,3."
   ]
  },
  {
   "cell_type": "code",
   "execution_count": 89,
   "id": "b9d653a2",
   "metadata": {},
   "outputs": [],
   "source": [
    "def B_split_data():#binary-split task\n",
    "    tr_X, y = binary_split(basedir)#extract images details and label numbers\n",
    "    tr_Y = np.array([y, -(y - 1)]).T#transpose\n",
    "    \n",
    "    te_X, y_t = binary_split(testdir)#extract images details and label numbers\n",
    "    te_Y = np.array([y_t, -(y_t - 1)]).T#transpose\n",
    "    return tr_X, tr_Y, te_X, te_Y#return 4 basic datasets\n",
    "\n",
    "def M_split_data():#multiclass-split task\n",
    "    tr_X, y = multiple_split(basedir)#extract images details and label numbers\n",
    "    tr_Y = np.array([y, -(y - 1)]).T#transpose\n",
    "    \n",
    "    te_X, y_t = multiple_split(testdir)#extract images details and label numbers\n",
    "    te_Y = np.array([y_t, -(y_t - 1)]).T#transpose\n",
    "    return tr_X, tr_Y, te_X, te_Y#return 4 basic datasets"
   ]
  },
  {
   "cell_type": "code",
   "execution_count": 90,
   "id": "fe0a9889",
   "metadata": {},
   "outputs": [],
   "source": [
    "def img_SVM(training_images, training_labels, test_images, test_labels):#for SVM model\n",
    "    classifier = svm.SVC(kernel='linear')#use linear instead of other kernels\n",
    "    classifier.fit(training_images, training_labels)#training model\n",
    "    pred = classifier.predict(test_images)#make prediction\n",
    "    #print(pred)\n",
    "    print(\"Accuracy:\", accuracy_score(test_labels, pred))#show results"
   ]
  },
  {
   "cell_type": "markdown",
   "id": "156f9e6a",
   "metadata": {},
   "source": [
    "## Train&Validate Binary&Multiclass Model Using SVM"
   ]
  },
  {
   "cell_type": "code",
   "execution_count": 91,
   "id": "8590b6fb",
   "metadata": {},
   "outputs": [],
   "source": [
    "def train_B():\n",
    "    X, y = binary_split(basedir)#extract images details and label numbers\n",
    "    Y = np.array([y, -(y - 1)]).T#transpose\n",
    "    tr_X=X[:2250]\n",
    "    tr_Y=Y[:2250]\n",
    "    te_X=X[:500]\n",
    "    te_Y=Y[:500]#split training set and validation set\n",
    "    return tr_X,tr_Y,te_X,te_Y#return 4 basic datasets"
   ]
  },
  {
   "cell_type": "code",
   "execution_count": 92,
   "id": "c2fafef9",
   "metadata": {},
   "outputs": [],
   "source": [
    "def train_M():\n",
    "    X, y = multiple_split(basedir)#extract images details and label numbers\n",
    "    Y = np.array([y, -(y - 1)]).T#transpose\n",
    "    tr_X=X[:2250]\n",
    "    tr_Y=Y[:2250]\n",
    "    te_X=X[:500]\n",
    "    te_Y=Y[:500]#split training set and validation set\n",
    "    return tr_X,tr_Y,te_X,te_Y#return 4 basic datasets"
   ]
  },
  {
   "cell_type": "code",
   "execution_count": 93,
   "id": "f8c96ef5",
   "metadata": {},
   "outputs": [],
   "source": [
    "def validate_B():\n",
    "    X, y = binary_split(basedir)#extract images details and label numbers\n",
    "    Y = np.array([y, -(y - 1)]).T#transpose\n",
    "    tr_X=X[:2250]\n",
    "    tr_Y=Y[:2250]\n",
    "    te_X=X[2250:]\n",
    "    te_Y=Y[2250:]#split training set and validation set\n",
    "    return tr_X,tr_Y,te_X,te_Y#return 4 basic datasets"
   ]
  },
  {
   "cell_type": "code",
   "execution_count": 94,
   "id": "9eb9f008",
   "metadata": {},
   "outputs": [],
   "source": [
    "def validate_M():\n",
    "    X, y = multiple_split(basedir)#extract images details and label numbers\n",
    "    Y = np.array([y, -(y - 1)]).T#transpose\n",
    "    tr_X=X[:2250]\n",
    "    tr_Y=Y[:2250]\n",
    "    te_X=X[2250:]\n",
    "    te_Y=Y[2250:]#split training set and validation set\n",
    "    return tr_X,tr_Y,te_X,te_Y#return 4 basic datasets"
   ]
  },
  {
   "cell_type": "code",
   "execution_count": 95,
   "id": "5a7b08bf",
   "metadata": {},
   "outputs": [
    {
     "name": "stdout",
     "output_type": "stream",
     "text": [
      "Accuracy: 1.0\n"
     ]
    }
   ],
   "source": [
    "tr_X, tr_Y, te_X, te_Y=train_B()\n",
    "img_SVM(tr_X.reshape((2250,128*128)),list(zip(*tr_Y))[0],te_X.reshape((500,128*128)),list(zip(*te_Y))[0])"
   ]
  },
  {
   "cell_type": "code",
   "execution_count": 96,
   "id": "2a017d4d",
   "metadata": {},
   "outputs": [
    {
     "name": "stdout",
     "output_type": "stream",
     "text": [
      "Accuracy: 1.0\n"
     ]
    }
   ],
   "source": [
    "tr_X, tr_Y, te_X, te_Y=train_M()\n",
    "img_SVM(tr_X.reshape((2250,128*128)),list(zip(*tr_Y))[0],te_X.reshape((500,128*128)),list(zip(*te_Y))[0])"
   ]
  },
  {
   "cell_type": "code",
   "execution_count": 97,
   "id": "d7d2e763",
   "metadata": {},
   "outputs": [
    {
     "name": "stdout",
     "output_type": "stream",
     "text": [
      "Accuracy: 0.944\n"
     ]
    }
   ],
   "source": [
    "tr_X, tr_Y, te_X, te_Y=validate_B()\n",
    "img_SVM(tr_X.reshape((2250,128*128)),list(zip(*tr_Y))[0],te_X.reshape((750,128*128)),list(zip(*te_Y))[0])"
   ]
  },
  {
   "cell_type": "code",
   "execution_count": 98,
   "id": "92578ced",
   "metadata": {},
   "outputs": [
    {
     "name": "stdout",
     "output_type": "stream",
     "text": [
      "Accuracy: 0.8173333333333334\n"
     ]
    }
   ],
   "source": [
    "tr_X, tr_Y, te_X, te_Y=validate_M()\n",
    "img_SVM(tr_X.reshape((2250,128*128)),list(zip(*tr_Y))[0],te_X.reshape((750,128*128)),list(zip(*te_Y))[0])"
   ]
  },
  {
   "cell_type": "markdown",
   "id": "48784d3d",
   "metadata": {},
   "source": [
    "## Test Binary&Multiclass Model Using SVM"
   ]
  },
  {
   "cell_type": "code",
   "execution_count": 99,
   "id": "7616b6d3",
   "metadata": {},
   "outputs": [
    {
     "name": "stdout",
     "output_type": "stream",
     "text": [
      "Accuracy: 0.93\n"
     ]
    }
   ],
   "source": [
    "tr_X, tr_Y, te_X, te_Y=B_split_data()\n",
    "img_SVM(tr_X.reshape((3000,128*128)),list(zip(*tr_Y))[0],te_X.reshape((200,128*128)),list(zip(*te_Y))[0])"
   ]
  },
  {
   "cell_type": "code",
   "execution_count": 100,
   "id": "04dbf1b9",
   "metadata": {},
   "outputs": [
    {
     "name": "stdout",
     "output_type": "stream",
     "text": [
      "Accuracy: 0.805\n"
     ]
    }
   ],
   "source": [
    "tr_X, tr_Y, te_X, te_Y=M_split_data()\n",
    "img_SVM(tr_X.reshape((3000,128*128)),list(zip(*tr_Y))[0],te_X.reshape((200,128*128)),list(zip(*te_Y))[0])"
   ]
  },
  {
   "cell_type": "code",
   "execution_count": 101,
   "id": "cab8b056",
   "metadata": {},
   "outputs": [],
   "source": [
    "def test_SVM(training_images, training_labels, test_images, test_labels):#for SVM model\n",
    "    kernal_set=['linear','poly','sigmoid','rbf']\n",
    "    for kernal_try in kernal_set:\n",
    "        classifier = svm.SVC(kernel=kernal_try)#use linear instead of other kernels\n",
    "        classifier.fit(training_images, training_labels)#training model\n",
    "        pred = classifier.predict(test_images)#make prediction\n",
    "        #print(pred)\n",
    "        print(kernal_try,\"kernel accuracy:\", accuracy_score(test_labels, pred))#show results"
   ]
  },
  {
   "cell_type": "code",
   "execution_count": 102,
   "id": "8d743635",
   "metadata": {},
   "outputs": [
    {
     "name": "stdout",
     "output_type": "stream",
     "text": [
      "linear kernel accuracy: 0.805\n",
      "poly kernel accuracy: 0.865\n",
      "sigmoid kernel accuracy: 0.365\n",
      "rbf kernel accuracy: 0.84\n"
     ]
    }
   ],
   "source": [
    "tr_X, tr_Y, te_X, te_Y=M_split_data()\n",
    "test_SVM(tr_X.reshape((3000,128*128)),list(zip(*tr_Y))[0],te_X.reshape((200,128*128)),list(zip(*te_Y))[0])"
   ]
  },
  {
   "cell_type": "code",
   "execution_count": 103,
   "id": "5cc55774",
   "metadata": {},
   "outputs": [
    {
     "name": "stdout",
     "output_type": "stream",
     "text": [
      "linear kernel accuracy: 0.93\n",
      "poly kernel accuracy: 0.945\n",
      "sigmoid kernel accuracy: 0.705\n",
      "rbf kernel accuracy: 0.925\n"
     ]
    }
   ],
   "source": [
    "tr_X, tr_Y, te_X, te_Y=B_split_data()\n",
    "test_SVM(tr_X.reshape((3000,128*128)),list(zip(*tr_Y))[0],te_X.reshape((200,128*128)),list(zip(*te_Y))[0])"
   ]
  },
  {
   "cell_type": "markdown",
   "id": "9367c88a",
   "metadata": {},
   "source": [
    "## Train Binary&Multiclass Model Using KNN"
   ]
  },
  {
   "cell_type": "code",
   "execution_count": 104,
   "id": "19bb7239",
   "metadata": {},
   "outputs": [],
   "source": [
    "def KNN_Classifier(X_train, y_train, X_test,k):#for Knn model\n",
    "    neigh = KNeighborsClassifier(n_neighbors=k)#classify data\n",
    "    neigh.fit(X_train, y_train) # Fit KNN model\n",
    "    Y_pred = neigh.predict(X_test)\n",
    "    return Y_pred#return prediction"
   ]
  },
  {
   "cell_type": "code",
   "execution_count": 105,
   "id": "4e99d38f",
   "metadata": {},
   "outputs": [],
   "source": [
    "def KNN_Kcompare_M():#for multiclass-split task\n",
    "    tr_X, tr_Y, te_X, te_Y=M_split_data()\n",
    "    score_list=[]\n",
    "    for i in range(1,36):\n",
    "        knn = KNeighborsClassifier(n_neighbors=i)#classify data\n",
    "        knn.fit(tr_X.reshape((3000,128*128)),list(zip(*tr_Y))[0])#train model \n",
    "        pred_i = knn.predict(te_X.reshape((200,128*128)))#make prediction using test datasets\n",
    "        score_list.append(metrics.accuracy_score(list(zip(*te_Y))[0],pred_i))\n",
    "    plt.plot(range(1,36),score_list,color='pink', linestyle='dashed', marker='o', markerfacecolor='grey',markersize=10)\n",
    "    plt.title(\"Accuracy vs. K Value (Multiclass)\")\n",
    "    plt.xlabel(\"K\")\n",
    "    plt.ylabel(\"Accuracy\")\n",
    "    plt.show()#make a chart to show the results\n",
    "    \n",
    "def KNN_Kcompare_B():#for binary-split task\n",
    "    tr_X, tr_Y, te_X, te_Y=B_split_data()\n",
    "    score_list=[]\n",
    "    for i in range(1,36):\n",
    "        knn = KNeighborsClassifier(n_neighbors=i)#classify data\n",
    "        knn.fit(tr_X.reshape((3000,128*128)),list(zip(*tr_Y))[0])#train model \n",
    "        pred_i = knn.predict(te_X.reshape((200,128*128)))#make prediction using test datasets\n",
    "        score_list.append(metrics.accuracy_score(list(zip(*te_Y))[0],pred_i))\n",
    "    plt.plot(range(1,36),score_list,color='pink', linestyle='dashed', marker='o', markerfacecolor='grey',markersize=10)\n",
    "    plt.title(\"Accuracy vs. K Value (Binary)\")\n",
    "    plt.xlabel(\"K\")\n",
    "    plt.ylabel(\"Accuracy\")\n",
    "    plt.show()#make a chart to show the results"
   ]
  },
  {
   "cell_type": "markdown",
   "id": "ad0567a6",
   "metadata": {},
   "source": [
    "## Train&Validate Binary&Multiclass Model Using KNN"
   ]
  },
  {
   "cell_type": "code",
   "execution_count": 106,
   "id": "fc77d7fc",
   "metadata": {},
   "outputs": [
    {
     "name": "stdout",
     "output_type": "stream",
     "text": [
      "0.95\n"
     ]
    }
   ],
   "source": [
    "tr_X, tr_Y, te_X, te_Y=train_B()\n",
    "Y_pred=KNN_Classifier(tr_X.reshape((2250,128*128)),list(zip(*tr_Y))[0],te_X.reshape((500,128*128)),5)\n",
    "score=metrics.accuracy_score(list(zip(*te_Y))[0],Y_pred)\n",
    "print(score)"
   ]
  },
  {
   "cell_type": "code",
   "execution_count": 107,
   "id": "e3756c61",
   "metadata": {},
   "outputs": [
    {
     "name": "stdout",
     "output_type": "stream",
     "text": [
      "0.86\n"
     ]
    }
   ],
   "source": [
    "tr_X, tr_Y, te_X, te_Y=train_M()\n",
    "Y_pred=KNN_Classifier(tr_X.reshape((2250,128*128)),list(zip(*tr_Y))[0],te_X.reshape((500,128*128)),5)\n",
    "score=metrics.accuracy_score(list(zip(*te_Y))[0],Y_pred)\n",
    "print(score)"
   ]
  },
  {
   "cell_type": "code",
   "execution_count": 108,
   "id": "a63f88c9",
   "metadata": {},
   "outputs": [
    {
     "name": "stdout",
     "output_type": "stream",
     "text": [
      "0.9066666666666666\n"
     ]
    }
   ],
   "source": [
    "tr_X, tr_Y, te_X, te_Y=validate_B()\n",
    "Y_pred=KNN_Classifier(tr_X.reshape((2250,128*128)),list(zip(*tr_Y))[0],te_X.reshape((750,128*128)),5)\n",
    "score=metrics.accuracy_score(list(zip(*te_Y))[0],Y_pred)\n",
    "print(score)"
   ]
  },
  {
   "cell_type": "code",
   "execution_count": 109,
   "id": "2502bfc1",
   "metadata": {},
   "outputs": [
    {
     "name": "stdout",
     "output_type": "stream",
     "text": [
      "0.748\n"
     ]
    }
   ],
   "source": [
    "tr_X, tr_Y, te_X, te_Y=validate_M()\n",
    "Y_pred=KNN_Classifier(tr_X.reshape((2250,128*128)),list(zip(*tr_Y))[0],te_X.reshape((750,128*128)),5)\n",
    "score=metrics.accuracy_score(list(zip(*te_Y))[0],Y_pred)\n",
    "print(score)"
   ]
  },
  {
   "cell_type": "markdown",
   "id": "47cd9e24",
   "metadata": {},
   "source": [
    "## Test Binary&Multiclass Model Using KNN"
   ]
  },
  {
   "cell_type": "code",
   "execution_count": 15,
   "id": "fdd4ebe8",
   "metadata": {},
   "outputs": [
    {
     "data": {
      "image/png": "[encoded data removed]",
      "text/plain": [
       "<Figure size 432x288 with 1 Axes>"
      ]
     },
     "metadata": {
      "needs_background": "light"
     },
     "output_type": "display_data"
    },
    {
     "data": {
      "image/png": "[encoded data removed]",
      "text/plain": [
       "<Figure size 432x288 with 1 Axes>"
      ]
     },
     "metadata": {
      "needs_background": "light"
     },
     "output_type": "display_data"
    }
   ],
   "source": [
    "KNN_Kcompare_M()\n",
    "KNN_Kcompare_B()"
   ]
  },
  {
   "cell_type": "markdown",
   "id": "b62a20f8",
   "metadata": {},
   "source": [
    "The best K should be 1"
   ]
  },
  {
   "cell_type": "code",
   "execution_count": 11,
   "id": "38958057",
   "metadata": {},
   "outputs": [
    {
     "name": "stdout",
     "output_type": "stream",
     "text": [
      "0.975\n"
     ]
    }
   ],
   "source": [
    "tr_X, tr_Y, te_X, te_Y=B_split_data()\n",
    "Y_pred=KNN_Classifier(tr_X.reshape((3000,128*128)),list(zip(*tr_Y))[0],te_X.reshape((200,128*128)),1)\n",
    "score=metrics.accuracy_score(list(zip(*te_Y))[0],Y_pred)\n",
    "print(score)"
   ]
  },
  {
   "cell_type": "code",
   "execution_count": 10,
   "id": "f975a844",
   "metadata": {},
   "outputs": [
    {
     "name": "stdout",
     "output_type": "stream",
     "text": [
      "0.915\n"
     ]
    }
   ],
   "source": [
    "tr_X, tr_Y, te_X, te_Y=M_split_data()\n",
    "Y_pred=KNN_Classifier(tr_X.reshape((3000,128*128)),list(zip(*tr_Y))[0],te_X.reshape((200,128*128)),1)\n",
    "score=metrics.accuracy_score(list(zip(*te_Y))[0],Y_pred)\n",
    "print(score)"
   ]
  },
  {
   "cell_type": "markdown",
   "id": "9fddbcde",
   "metadata": {},
   "source": [
    "## Learning Curves"
   ]
  },
  {
   "cell_type": "code",
   "execution_count": 84,
   "id": "eff2e515",
   "metadata": {},
   "outputs": [],
   "source": [
    "def draw_learning_curves(X, y, estimator, num_trainings,title):\n",
    "    train_sizes, train_scores, test_scores = learning_curve(\n",
    "        estimator, X, y, cv=5, n_jobs=2, train_sizes=np.linspace(.1, 1.0, num_trainings))\n",
    "\n",
    "    train_scores_mean = np.mean(train_scores, axis=1)\n",
    "    train_scores_std = np.std(train_scores, axis=1)\n",
    "    test_scores_mean = np.mean(test_scores, axis=1)\n",
    "    test_scores_std = np.std(test_scores, axis=1)\n",
    "\n",
    "    plt.grid()\n",
    "\n",
    "    plt.title(title + \" Learning Curves\")\n",
    "    #plt.ylim((0.7,1.1))\n",
    "    plt.xlabel(\"Training examples\")\n",
    "    plt.ylabel(\"Score\")\n",
    "\n",
    "    plt.plot(train_scores_mean, 'o-', color=\"g\",\n",
    "             label=\"Training score\")\n",
    "    plt.plot(test_scores_mean, 'o-', color=\"y\",\n",
    "             label=\"Cross-validation score\")\n",
    "\n",
    "\n",
    "    plt.legend(loc=\"best\")\n",
    "\n",
    "    plt.show()"
   ]
  },
  {
   "cell_type": "code",
   "execution_count": 61,
   "id": "aa8f2bc6",
   "metadata": {},
   "outputs": [
    {
     "data": {
      "image/png": "[encoded data removed]",
      "text/plain": [
       "<Figure size 432x288 with 1 Axes>"
      ]
     },
     "metadata": {
      "needs_background": "light"
     },
     "output_type": "display_data"
    }
   ],
   "source": [
    "X,y=binary_split(basedir)\n",
    "X=X[:2250]\n",
    "Y = np.array([y, -(y - 1)]).T\n",
    "Y=Y[:2250]\n",
    "draw_learning_curves(X.reshape((2250,128*128)), list(zip(*Y))[0], SVC(kernel='linear'),5,'linear')"
   ]
  },
  {
   "cell_type": "code",
   "execution_count": 63,
   "id": "22a70d9f",
   "metadata": {},
   "outputs": [
    {
     "data": {
      "image/png": "[encoded data removed]",
      "text/plain": [
       "<Figure size 432x288 with 1 Axes>"
      ]
     },
     "metadata": {
      "needs_background": "light"
     },
     "output_type": "display_data"
    }
   ],
   "source": [
    "X,y=binary_split(basedir)\n",
    "X=X[:2250]\n",
    "Y = np.array([y, -(y - 1)]).T\n",
    "Y=Y[:2250]\n",
    "draw_learning_curves(X.reshape((2250,128*128)), list(zip(*Y))[0], SVC(kernel='poly'),5,'poly')"
   ]
  },
  {
   "cell_type": "code",
   "execution_count": 83,
   "id": "bf8512e9",
   "metadata": {},
   "outputs": [
    {
     "data": {
      "image/png": "[encoded data removed]",
      "text/plain": [
       "<Figure size 432x288 with 1 Axes>"
      ]
     },
     "metadata": {
      "needs_background": "light"
     },
     "output_type": "display_data"
    }
   ],
   "source": [
    "X,y=multiple_split(basedir)\n",
    "X=X[:1000]\n",
    "Y = np.array([y, -(y - 1)]).T\n",
    "Y=Y[:1000]\n",
    "draw_learning_curves(X.reshape((1000,128*128)), list(zip(*Y))[0], SVC(kernel='poly'),10,'poly')"
   ]
  },
  {
   "cell_type": "code",
   "execution_count": 85,
   "id": "9a81ccb0",
   "metadata": {},
   "outputs": [
    {
     "data": {
      "image/png": "[encoded data removed]",
      "text/plain": [
       "<Figure size 432x288 with 1 Axes>"
      ]
     },
     "metadata": {
      "needs_background": "light"
     },
     "output_type": "display_data"
    }
   ],
   "source": [
    "X,y=multiple_split(basedir)\n",
    "X=X[:1000]\n",
    "Y = np.array([y, -(y - 1)]).T\n",
    "Y=Y[:1000]\n",
    "draw_learning_curves(X.reshape((1000,128*128)), list(zip(*Y))[0], SVC(kernel='poly'),10,'poly')"
   ]
  },
  {
   "cell_type": "code",
   "execution_count": null,
   "id": "ee90f68b",
   "metadata": {},
   "outputs": [],
   "source": []
  }
 ],
 "metadata": {
  "kernelspec": {
   "display_name": "Python 3",
   "language": "python",
   "name": "python3"
  },
  "language_info": {
   "codemirror_mode": {
    "name": "ipython",
    "version": 3
   },
   "file_extension": ".py",
   "mimetype": "text/x-python",
   "name": "python",
   "nbconvert_exporter": "python",
   "pygments_lexer": "ipython3",
   "version": "3.8.8"
  }
 },
 "nbformat": 4,
 "nbformat_minor": 5
}
